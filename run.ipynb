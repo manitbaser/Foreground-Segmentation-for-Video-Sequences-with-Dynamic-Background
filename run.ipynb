{
  "nbformat": 4,
  "nbformat_minor": 0,
  "metadata": {
    "colab": {
      "name": "SOP_final.ipynb",
      "provenance": [],
      "collapsed_sections": [],
      "machine_shape": "hm"
    },
    "kernelspec": {
      "name": "python3",
      "display_name": "Python 3"
    },
    "accelerator": "GPU"
  },
  "cells": [
    {
      "cell_type": "code",
      "metadata": {
        "id": "0a-zW9uL07wv"
      },
      "source": [
        "# Preprocessing\n",
        "# This is needed only once\n",
        "import matplotlib.pylab as plt\n",
        "import numpy as np\n",
        "# Saving input images in frames.npy and groundtruth images in frames_gt.npy\n",
        "frames = []\n",
        "frames_gt = []\n",
        "\n",
        "for k in range(1099):\n",
        "    imageData = plt.imread(\"input/img\"+str(k+1)+\".jpg\")\n",
        "    frames.append(imageData)\n",
        "    imageData_gt = plt.imread(\"groundtruth/gt\"+str(k+1)+\".png\")\n",
        "    frames_gt.append(imageData_gt)\n",
        "\n",
        "frames = np.array(frames)\n",
        "np.save('frames',frames)    \n",
        "frames_gt = np.array(frames_gt)\n",
        "np.save('frames_gt',frames_gt)"
      ],
      "execution_count": 4,
      "outputs": []
    },
    {
      "cell_type": "code",
      "metadata": {
        "id": "4pTsXIspIdU6"
      },
      "source": [
        "import matplotlib.pylab as plt\n",
        "import numpy as np\n",
        "from scipy import ndimage\n",
        "x1 = np.load('frames.npy')\n",
        "x1 = x1[0:200]\n",
        "\n",
        "from skimage.color import rgb2gray\n",
        "frames_gt = np.load('frames_gt.npy')\n",
        "frames_gt = rgb2gray(frames_gt);"
      ],
      "execution_count": 5,
      "outputs": []
    },
    {
      "cell_type": "code",
      "metadata": {
        "id": "7--0skjkIiIO"
      },
      "source": [
        "x8 = np.zeros([200,240,360,3])\n",
        "# Get the 8x8 frame by convolving"
      ],
      "execution_count": 6,
      "outputs": []
    },
    {
      "cell_type": "code",
      "metadata": {
        "id": "MHETtBRjIjgY"
      },
      "source": [
        "for i in range(200):\n",
        "    for j in range(3):\n",
        "        x8[i,:,:,j] = ndimage.convolve(x1[i,:,:,j],1/64*np.ones([8,8]),mode = 'nearest')"
      ],
      "execution_count": 7,
      "outputs": []
    },
    {
      "cell_type": "code",
      "metadata": {
        "id": "hKq55zPhKdak"
      },
      "source": [
        "#Getting the  ycbcr for both x1 and x8\n",
        "y1 = np.asarray(16 + (65.738*x1[:,:,:,0]+129.057*x1[:,:,:,1]+25.064*x1[:,:,:,2])/256)\n",
        "cb1 = np.asarray(128 + (-37.945*x1[:,:,:,0]-74.494*x1[:,:,:,1]+112.439*x1[:,:,:,2])/256)\n",
        "cr1 = np.asarray(128 + (112.439*x1[:,:,:,0] - 94.154*x1[:,:,:,1] - 18.285*x1[:,:,:,2])/256)\n",
        "\n",
        "\n",
        "y8 = np.asarray(16 + (65.738*x8[:,:,:,0]+129.057*x8[:,:,:,1]+25.064*x8[:,:,:,2])/256)\n",
        "cb8 = np.asarray(128 + (-37.945*x8[:,:,:,0]-74.494*x8[:,:,:,1]+112.439*x8[:,:,:,2])/256)\n",
        "cr8 = np.asarray(128 + (112.439*x8[:,:,:,0] - 94.154*x8[:,:,:,1] - 18.285*x8[:,:,:,2])/256)"
      ],
      "execution_count": 8,
      "outputs": []
    },
    {
      "cell_type": "code",
      "metadata": {
        "id": "sLJsF-JUKsLo"
      },
      "source": [
        "#subtract these mean values(already stored)\n",
        "#update the mean values\n",
        "y1m = np.mean(y1[0:200],axis = 0)\n",
        "y1 = y1 - y1m\n",
        "y8m = np.mean(y8[0:200],axis = 0)\n",
        "y8 = y8 - y8m\n",
        "cb1m = np.mean(cb1[0:200],axis = 0)\n",
        "cb1 = cb1 - cb1m\n",
        "cb8m = np.mean(cb8[0:200],axis = 0)\n",
        "cb8 = cb8 - cb8m\n",
        "cr1m = np.mean(cr1[0:200],axis = 0)\n",
        "cr1 = cr1 - cr1m\n",
        "cr8m = np.mean(cr8[0:200],axis = 0)\n",
        "cr8 = cr8 - cr8m\n",
        "\n",
        "x1rm = np.mean(x1[0:200,:,:,0],axis = 0)\n",
        "x1[:,:,:,0] = x1[:,:,:,0] - x1rm\n",
        "x8rm = np.mean(x8[0:200,:,:,0],axis = 0)\n",
        "x8[:,:,:,0] = x8[:,:,:,0] - x8rm\n",
        "x1gm = np.mean(x1[0:200,:,:,1],axis = 0)\n",
        "x1[:,:,:,1] = x1[:,:,:,1] - x1gm\n",
        "x8gm = np.mean(x8[0:200,:,:,1],axis = 0)\n",
        "x8[:,:,:,1] = x8[:,:,:,1] - x8gm\n",
        "x1bm = np.mean(x1[0:200,:,:,2],axis = 0)\n",
        "x1[:,:,:,2] = x1[:,:,:,2] - x1bm\n",
        "x8bm = np.mean(x8[0:200,:,:,2],axis = 0)\n",
        "x8[:,:,:,2] = x8[:,:,:,2] - x8bm"
      ],
      "execution_count": 9,
      "outputs": []
    },
    {
      "cell_type": "code",
      "metadata": {
        "id": "vrVkJ-9GKt7j"
      },
      "source": [
        "#create new variables x1rgb and x8rgb and x1ycbcr and x8ycbcr\n",
        "x1rgb = np.square(x1[:,:,:,0])+np.square(x1[:,:,:,1])+np.square(x1[:,:,:,2])\n",
        "x8rgb = np.square(x8[:,:,:,0])+np.square(x8[:,:,:,1])+np.square(x8[:,:,:,2])\n",
        "\n",
        "x1ycbcr = np.square(y1)+np.square(cb1)+np.square(cr1)\n",
        "x8ycbcr = np.square(y8)+np.square(cb8)+np.square(cr8)"
      ],
      "execution_count": 10,
      "outputs": []
    },
    {
      "cell_type": "code",
      "metadata": {
        "id": "j8r1Dpd0K8SE"
      },
      "source": [
        "#update x1ycbcr and x8ycbcr and t1ycbcr and t2 ycbcr\n",
        "v1 = np.mean(x1ycbcr[0:200],axis = 0)\n",
        "v8 = np.mean(x8ycbcr[0:200],axis = 0)\n",
        "\n",
        "\n",
        "x1ycbcr = np.square(x1ycbcr-v1)\n",
        "x8ycbcr = np.square(x8ycbcr-v8)"
      ],
      "execution_count": 11,
      "outputs": []
    },
    {
      "cell_type": "code",
      "metadata": {
        "id": "cHCAOTb1K_2E"
      },
      "source": [
        "#new variables ycbcr and rgb\n",
        "ycbcr = np.where(x1ycbcr<x8ycbcr,x1ycbcr,x8ycbcr)\n",
        "rgb = np.where(x1rgb<x8rgb,x1rgb,x8rgb)"
      ],
      "execution_count": 12,
      "outputs": []
    },
    {
      "cell_type": "code",
      "metadata": {
        "id": "EZcoidUALBLQ"
      },
      "source": [
        "#some more thresholds; ty and tr; need update\n",
        "t1 = np.mean(x1ycbcr,axis = 0)\n",
        "t8 = np.mean(x8ycbcr,axis = 0)\n",
        "ty = np.where(t1>t8,t1,t8)\n",
        "\n",
        "\n",
        "t1_ = np.mean(x1rgb,axis = 0)\n",
        "t8_ = np.mean(x8rgb,axis = 0)\n",
        "tr = np.where(t1_>t8_,t1_,t8_)"
      ],
      "execution_count": 13,
      "outputs": []
    },
    {
      "cell_type": "code",
      "metadata": {
        "id": "0jmruRT-LC81"
      },
      "source": [
        "#final comparison bw ycbcr and ty, rgb and tr\n",
        "outputy = np.where(ycbcr>ty,255,0)\n",
        "outputr = np.where(rgb>tr,255,0)"
      ],
      "execution_count": 14,
      "outputs": []
    },
    {
      "cell_type": "code",
      "metadata": {
        "id": "OjYGmQhmLE9m"
      },
      "source": [
        "for i in range(200):\n",
        "    plt.imshow(np.where(outputr[i]>0,0,outputy[i]))\n",
        "    plt.pause(0.000000001)\n",
        "    print(i)"
      ],
      "execution_count": null,
      "outputs": []
    },
    {
      "cell_type": "code",
      "metadata": {
        "id": "7uNFK5eM8DBo"
      },
      "source": [
        "frames = np.load('frames.npy')\n",
        "alpha = 0.001\n",
        "#alpha is the tuning parameter; alpha is inversely proportional to frame rate(fps)\n",
        "for i in range(200,1099):\n",
        "  x1 = frames[i]\n",
        "  x8 = np.zeros([240,360,3])\n",
        "  for j in range(3):\n",
        "    x8[:,:,j] = ndimage.convolve(x1[:,:,j],1/64*np.ones([8,8]),mode = 'nearest')\n",
        "  y1 = np.asarray(16 + (65.738*x1[:,:,0]+129.057*x1[:,:,1]+25.064*x1[:,:,2])/256)\n",
        "  cb1 = np.asarray(128 + (-37.945*x1[:,:,0]-74.494*x1[:,:,1]+112.439*x1[:,:,2])/256)\n",
        "  cr1 = np.asarray(128 + (112.439*x1[:,:,0] - 94.154*x1[:,:,1] - 18.285*x1[:,:,2])/256)\n",
        "  y8 = np.asarray(16 + (65.738*x8[:,:,0]+129.057*x8[:,:,1]+25.064*x8[:,:,2])/256)\n",
        "  cb8 = np.asarray(128 + (-37.945*x8[:,:,0]-74.494*x8[:,:,1]+112.439*x8[:,:,2])/256)\n",
        "  cr8 = np.asarray(128 + (112.439*x8[:,:,0] - 94.154*x8[:,:,1] - 18.285*x8[:,:,2])/256)\n",
        "  y1m = (y1m*(1-alpha)) +(y1*alpha)\n",
        "  cb1m = (cb1m*(1-alpha)) +(cb1*alpha)\n",
        "  cr1m = (cr1m*(1-alpha)) +(cr1*alpha)\n",
        "  y8m = (y8m*(1-alpha)) +(y8*alpha)\n",
        "  cb8m = (cb8m*(1-alpha)) +(cb8*alpha)\n",
        "  cr8m = (cr8m*(1-alpha)) +(cr8*alpha)\n",
        "  y1 = y1 - y1m\n",
        "  y8 = y8 - y8m\n",
        "  cb1 = cb1 - cb1m\n",
        "  cb8 = cb8 - cb8m\n",
        "  cr1 = cr1 - cr1m\n",
        "  cr8 = cr8 - cr8m\n",
        "\n",
        "  x1rm = (x1rm*(1-alpha)) +(x1[:,:,0]*alpha)\n",
        "  x1gm = (x1gm*(1-alpha)) +(x1[:,:,1]*alpha)\n",
        "  x1bm = (x1bm*(1-alpha)) +(x1[:,:,2]*alpha)\n",
        "  x8rm = (x8rm*(1-alpha)) +(x8[:,:,0]*alpha)\n",
        "  x8gm = (x8gm*(1-alpha)) +(x8[:,:,1]*alpha)\n",
        "  x8bm = (x8bm*(1-alpha)) +(x8[:,:,2]*alpha)\n",
        "  x1[:,:,0] = x1[:,:,0] - x1rm\n",
        "  x8[:,:,0] = x8[:,:,0] - x8rm\n",
        "  x1[:,:,1] = x1[:,:,1] - x1gm\n",
        "  x8[:,:,1] = x8[:,:,1] - x8gm\n",
        "  x1[:,:,2] = x1[:,:,2] - x1bm\n",
        "  x8[:,:,2] = x8[:,:,2] - x8bm\n",
        "\n",
        "  x1rgb = np.square(x1[:,:,0])+np.square(x1[:,:,1])+np.square(x1[:,:,2])\n",
        "  x8rgb = np.square(x8[:,:,0])+np.square(x8[:,:,1])+np.square(x8[:,:,2])\n",
        "  x1ycbcr = np.square(y1)+np.square(cb1)+np.square(cr1)\n",
        "  x8ycbcr = np.square(y8)+np.square(cb8)+np.square(cr8)\n",
        "\n",
        "  v1 = (v1*(1-alpha))+ (x1ycbcr*alpha)\n",
        "  v8 = (v8*(1-alpha))+ (x8ycbcr*alpha)\n",
        "\n",
        "\n",
        "  x1ycbcr = np.square(x1ycbcr-v1)\n",
        "  x8ycbcr = np.square(x8ycbcr-v8)\n",
        "\n",
        "\n",
        "  ycbcr = np.where(x1ycbcr<x8ycbcr,x1ycbcr,x8ycbcr)\n",
        "  rgb = np.where(x1rgb<x8rgb,x1rgb,x8rgb)\n",
        "\n",
        "  t1 = (t1*(1-alpha))+(x1ycbcr*alpha)\n",
        "  t8 = (t8*(1-alpha))+(x8ycbcr*alpha)\n",
        "  t1_ = (t1_*(1-alpha))+(x1rgb*alpha)\n",
        "  t8_ = (t8_*(1-alpha))+(x8rgb*alpha)\n",
        "  ty = np.where(t1<t8,t8,t1)\n",
        "  tr = np.where(t1_<t8_,t8_,t1_)\n",
        "  # ty = (ty*(1-alpha))+(np.where(x1ycbcr<x8ycbcr,x8ycbcr,x1ycbcr)*alpha)\n",
        "  # tr = (tr*(1-alpha))+(np.where(x1rgb<x8rgb,x8rgb,x1rgb)*alpha) \n",
        "\n",
        "\n",
        "  outputy = np.where(ycbcr>ty,255,0)\n",
        "  outputr = np.where(rgb>tr,255,0)\n",
        "  output = np.where(outputr>0,0,outputy)\n",
        "  plt.imshow(output)\n",
        "  gt = frames_gt[i]\n",
        "\n",
        "  tp = np.where(output==255, 1,0)\n",
        "  tp = np.where(gt>0.9,tp,0)\n",
        "  tn = np.where(output==0, 1,0)\n",
        "  tn = np.where(gt<0.1,tn,0)\n",
        "  fp = np.where(output==255, 1,0)\n",
        "  fp = np.where(gt<0.1,fp,0)\n",
        "  fn = np.where(output==0, 1,0)\n",
        "  fn = np.where(gt>0.9,fn,0)\n",
        "\n",
        "  Recall  = np.sum(np.sum(tp))/(np.sum(np.sum(tp))+np.sum(np.sum(fn)))\n",
        "  Precision = np.sum(np.sum(tp))/(np.sum(np.sum(tp))+np.sum(np.sum(fp)))\n",
        "  F1 = (2*Recall*Precision)/(Precision+Recall)\n",
        "  print(\"Recall :\" , Recall)\n",
        "  print(\"Precision :\" , Precision)\n",
        "  print(\"F1 Score :\" , F1)\n",
        "  plt.pause(0.000000001)\n",
        "  plt.imshow(gt)\n",
        "  plt.pause(0.000000001)\n",
        "  print(i)"
      ],
      "execution_count": null,
      "outputs": []
    }
  ]
}